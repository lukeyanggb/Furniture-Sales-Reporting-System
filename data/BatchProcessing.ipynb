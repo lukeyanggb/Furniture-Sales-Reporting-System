{
 "cells": [
  {
   "cell_type": "code",
   "execution_count": 1,
   "metadata": {},
   "outputs": [],
   "source": [
    "import pandas as pd"
   ]
  },
  {
   "cell_type": "code",
   "execution_count": 9,
   "metadata": {},
   "outputs": [],
   "source": [
    "tables = ['Campaign', 'Category', 'City', 'Discount', 'Holiday', 'InCategory', 'Product', 'Store', 'Transaction']\n",
    "for t in tables:\n",
    "    df = pd.read_csv(f\"{t}.tsv\", delimiter='\\t', header=None)\n",
    "    df.to_csv(f'{t}.csv', index=False, header=False)"
   ]
  },
  {
   "cell_type": "code",
   "execution_count": 10,
   "metadata": {},
   "outputs": [
    {
     "data": {
      "text/html": [
       "<div>\n",
       "<style scoped>\n",
       "    .dataframe tbody tr th:only-of-type {\n",
       "        vertical-align: middle;\n",
       "    }\n",
       "\n",
       "    .dataframe tbody tr th {\n",
       "        vertical-align: top;\n",
       "    }\n",
       "\n",
       "    .dataframe thead th {\n",
       "        text-align: right;\n",
       "    }\n",
       "</style>\n",
       "<table border=\"1\" class=\"dataframe\">\n",
       "  <thead>\n",
       "    <tr style=\"text-align: right;\">\n",
       "      <th></th>\n",
       "      <th>0</th>\n",
       "      <th>1</th>\n",
       "    </tr>\n",
       "  </thead>\n",
       "  <tbody>\n",
       "    <tr>\n",
       "      <th>0</th>\n",
       "      <td>2000-01-03</td>\n",
       "      <td>Art with an attitude.</td>\n",
       "    </tr>\n",
       "    <tr>\n",
       "      <th>1</th>\n",
       "      <td>2000-01-16</td>\n",
       "      <td>Art with an attitude.</td>\n",
       "    </tr>\n",
       "    <tr>\n",
       "      <th>2</th>\n",
       "      <td>2000-02-17</td>\n",
       "      <td>Art with an attitude.</td>\n",
       "    </tr>\n",
       "    <tr>\n",
       "      <th>3</th>\n",
       "      <td>2000-02-18</td>\n",
       "      <td>Art with an attitude.</td>\n",
       "    </tr>\n",
       "    <tr>\n",
       "      <th>4</th>\n",
       "      <td>2000-02-26</td>\n",
       "      <td>Art with an attitude.</td>\n",
       "    </tr>\n",
       "    <tr>\n",
       "      <th>...</th>\n",
       "      <td>...</td>\n",
       "      <td>...</td>\n",
       "    </tr>\n",
       "    <tr>\n",
       "      <th>18451</th>\n",
       "      <td>2012-05-27</td>\n",
       "      <td>Your perfect hall for furniture needs.</td>\n",
       "    </tr>\n",
       "    <tr>\n",
       "      <th>18452</th>\n",
       "      <td>2012-06-07</td>\n",
       "      <td>Your perfect hall for furniture needs.</td>\n",
       "    </tr>\n",
       "    <tr>\n",
       "      <th>18453</th>\n",
       "      <td>2012-06-21</td>\n",
       "      <td>Your perfect hall for furniture needs.</td>\n",
       "    </tr>\n",
       "    <tr>\n",
       "      <th>18454</th>\n",
       "      <td>2012-06-28</td>\n",
       "      <td>Your perfect hall for furniture needs.</td>\n",
       "    </tr>\n",
       "    <tr>\n",
       "      <th>18455</th>\n",
       "      <td>2012-06-30</td>\n",
       "      <td>Your perfect hall for furniture needs.</td>\n",
       "    </tr>\n",
       "  </tbody>\n",
       "</table>\n",
       "<p>18456 rows × 2 columns</p>\n",
       "</div>"
      ],
      "text/plain": [
       "                0                                       1\n",
       "0      2000-01-03                   Art with an attitude.\n",
       "1      2000-01-16                   Art with an attitude.\n",
       "2      2000-02-17                   Art with an attitude.\n",
       "3      2000-02-18                   Art with an attitude.\n",
       "4      2000-02-26                   Art with an attitude.\n",
       "...           ...                                     ...\n",
       "18451  2012-05-27  Your perfect hall for furniture needs.\n",
       "18452  2012-06-07  Your perfect hall for furniture needs.\n",
       "18453  2012-06-21  Your perfect hall for furniture needs.\n",
       "18454  2012-06-28  Your perfect hall for furniture needs.\n",
       "18455  2012-06-30  Your perfect hall for furniture needs.\n",
       "\n",
       "[18456 rows x 2 columns]"
      ]
     },
     "execution_count": 10,
     "metadata": {},
     "output_type": "execute_result"
    }
   ],
   "source": [
    "t = \"Campaign\"\n",
    "df = pd.read_csv(f\"{t}.tsv\", delimiter='\\t', header=None)\n",
    "df"
   ]
  },
  {
   "cell_type": "code",
   "execution_count": null,
   "metadata": {},
   "outputs": [],
   "source": []
  }
 ],
 "metadata": {
  "kernelspec": {
   "display_name": "Python 3",
   "language": "python",
   "name": "python3"
  },
  "language_info": {
   "codemirror_mode": {
    "name": "ipython",
    "version": 3
   },
   "file_extension": ".py",
   "mimetype": "text/x-python",
   "name": "python",
   "nbconvert_exporter": "python",
   "pygments_lexer": "ipython3",
   "version": "3.7.4"
  }
 },
 "nbformat": 4,
 "nbformat_minor": 4
}
